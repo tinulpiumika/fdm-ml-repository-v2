{
 "cells": [
  {
   "cell_type": "markdown",
   "metadata": {},
   "source": [
    "<div class=\"alert alert-info\">\n",
    "  <strong>\n",
    "Random Forest Classifier- RFC <br>\n",
    "LinearDiscriminantAnalysis()  - LDA <br>\n",
    "XGboost - XGB <br>\n",
    "SVC(gamma='auto') - SVC <br>\n",
    "GaussianNB() - GNB <br>\n",
    "DecisionTreeClassifier() - DTC <br>\n",
    "LogisticRegression(solver='liblinear', multi_class='ovr') - LR <br>\n",
    "</strong>\n",
    "</div>\n"
   ]
  },
  {
   "cell_type": "code",
   "execution_count": 1,
   "metadata": {
    "id": "6RuH6m38Q2Cr"
   },
   "outputs": [],
   "source": [
    "import numpy as np\n",
    "import pandas as pd\n",
    "import matplotlib.pyplot as plt\n",
    "from statistics import mean\n",
    "from matplotlib import pyplot\n",
    "from sklearn.model_selection import train_test_split\n",
    "from sklearn.model_selection import cross_validate\n",
    "from sklearn.model_selection import RepeatedStratifiedKFold\n",
    "from sklearn.metrics import plot_confusion_matrix,classification_report,auc,roc_curve,r2_score,confusion_matrix,roc_auc_score,f1_score\n",
    "from sklearn.ensemble import RandomForestClassifier\n",
    "from imblearn.over_sampling import SMOTE\n",
    "from sklearn.model_selection import cross_val_score\n",
    "from sklearn.model_selection import StratifiedKFold"
   ]
  },
  {
   "cell_type": "code",
   "execution_count": 2,
   "metadata": {},
   "outputs": [],
   "source": [
    "def getPercent(num_a, num_b):\n",
    "    return (num_a /(num_a + num_b)) * 100"
   ]
  },
  {
   "cell_type": "code",
   "execution_count": 3,
   "metadata": {
    "id": "zH-q_7xIShbr"
   },
   "outputs": [],
   "source": [
    "df = pd.read_csv(\"six variable data set.csv\")"
   ]
  },
  {
   "cell_type": "code",
   "execution_count": 4,
   "metadata": {
    "colab": {
     "base_uri": "https://localhost:8080/"
    },
    "id": "kbDIqGqGSqlz",
    "outputId": "dee2f242-52e5-43ba-d47e-a1467b90b678"
   },
   "outputs": [
    {
     "data": {
      "text/plain": [
       "0    2417\n",
       "1     179\n",
       "Name: class, dtype: int64"
      ]
     },
     "execution_count": 4,
     "metadata": {},
     "output_type": "execute_result"
    }
   ],
   "source": [
    "vcount = df['class'].value_counts()\n",
    "vcount"
   ]
  },
  {
   "cell_type": "code",
   "execution_count": 5,
   "metadata": {},
   "outputs": [
    {
     "data": {
      "text/plain": [
       "93.10477657935286"
      ]
     },
     "execution_count": 5,
     "metadata": {},
     "output_type": "execute_result"
    }
   ],
   "source": [
    "getPercent(vcount[0],vcount[1])"
   ]
  },
  {
   "cell_type": "code",
   "execution_count": 6,
   "metadata": {
    "id": "UTmHEuG2Stv7"
   },
   "outputs": [],
   "source": [
    "X = df.drop('class', axis=1) #1 - columns, 0 - rows\n",
    "y = df['class']\n",
    "X = X.to_numpy()\n",
    "y = y.to_numpy()"
   ]
  },
  {
   "cell_type": "code",
   "execution_count": 7,
   "metadata": {
    "id": "PX4ESrH-Ug5b"
   },
   "outputs": [],
   "source": [
    "oversample = SMOTE(sampling_strategy=0.5385)\n",
    "over_X, over_y = oversample.fit_resample(X, y)"
   ]
  },
  {
   "cell_type": "code",
   "execution_count": 8,
   "metadata": {
    "colab": {
     "base_uri": "https://localhost:8080/"
    },
    "id": "XxIbaDEDhDPL",
    "outputId": "0fa348b7-49b5-41fb-e812-d251f8e3673b"
   },
   "outputs": [
    {
     "data": {
      "text/plain": [
       "0    2417\n",
       "1    1301\n",
       "dtype: int64"
      ]
     },
     "execution_count": 8,
     "metadata": {},
     "output_type": "execute_result"
    }
   ],
   "source": [
    "new_vcount = pd.DataFrame(over_y).value_counts()\n",
    "new_vcount"
   ]
  },
  {
   "cell_type": "code",
   "execution_count": 9,
   "metadata": {},
   "outputs": [
    {
     "data": {
      "text/plain": [
       "65.0080688542227"
      ]
     },
     "execution_count": 9,
     "metadata": {},
     "output_type": "execute_result"
    }
   ],
   "source": [
    "getPercent(new_vcount[0], new_vcount[1])"
   ]
  },
  {
   "cell_type": "code",
   "execution_count": 10,
   "metadata": {
    "colab": {
     "base_uri": "https://localhost:8080/"
    },
    "id": "BQUQOIV7WM26",
    "outputId": "7184c681-4b10-4d60-a110-ae8ea0f1e693"
   },
   "outputs": [
    {
     "data": {
      "text/plain": [
       "StratifiedKFold(n_splits=10, random_state=42, shuffle=True)"
      ]
     },
     "execution_count": 10,
     "metadata": {},
     "output_type": "execute_result"
    }
   ],
   "source": [
    "# splitting the data into 10 folds\n",
    "skf = StratifiedKFold(n_splits=10, shuffle=True, random_state=42)\n",
    "skf"
   ]
  },
  {
   "cell_type": "markdown",
   "metadata": {
    "tags": []
   },
   "source": [
    "# RFC"
   ]
  },
  {
   "cell_type": "markdown",
   "metadata": {},
   "source": [
    "<div class=\"alert alert-warning\">\n",
    "  <strong>Random Forest Classifer</strong>\n",
    "</div>"
   ]
  },
  {
   "cell_type": "code",
   "execution_count": 11,
   "metadata": {
    "id": "hxrlPlvGUuJ7"
   },
   "outputs": [
    {
     "data": {
      "text/plain": [
       "[0.9381720430107527,\n",
       " 0.9435483870967742,\n",
       " 0.9381720430107527,\n",
       " 0.9327956989247311,\n",
       " 0.9247311827956989,\n",
       " 0.9435483870967742,\n",
       " 0.9408602150537635,\n",
       " 0.9435483870967742,\n",
       " 0.9326145552560647,\n",
       " 0.9272237196765498]"
      ]
     },
     "execution_count": 11,
     "metadata": {},
     "output_type": "execute_result"
    }
   ],
   "source": [
    "#Build SMOTE SRF model\n",
    "RFC_model = RandomForestClassifier(n_estimators=150, random_state=0)\n",
    "\n",
    "\n",
    "lst_accu_stratified = []\n",
    "for train_index, test_index in skf.split(over_X, over_y):\n",
    "    #print(\"TRAIN:\", train_index, \"TEST:\", test_index)\n",
    "    over_X_train, over_X_test = over_X[train_index], over_X[test_index]\n",
    "    over_y_train, over_y_test = over_y[train_index], over_y[test_index]\n",
    "    RFC_model.fit(over_X_train, over_y_train)\n",
    "    lst_accu_stratified.append(RFC_model.score(over_X_test, over_y_test))\n",
    "    \n",
    "lst_accu_stratified"
   ]
  },
  {
   "cell_type": "code",
   "execution_count": 15,
   "metadata": {
    "colab": {
     "base_uri": "https://localhost:8080/"
    },
    "id": "ebn5jhG5VIbj",
    "outputId": "5dd4ca9e-31f4-4d2b-fd8a-0c1ca9628707"
   },
   "outputs": [
    {
     "name": "stdout",
     "output_type": "stream",
     "text": [
      "Mean f1: 0.906\n",
      "Mean recall: 0.872\n",
      "Mean precision: 0.943\n",
      "\n",
      "\n",
      "Scores for each fold are: [0.93010753 0.91666667 0.94623656 0.94623656 0.91666667 0.93817204\n",
      " 0.95430108 0.95698925 0.93800539 0.93530997]\n",
      "\n",
      "Average score: 0.937869171\n"
     ]
    }
   ],
   "source": [
    "#Create Stratified K-fold cross validation\n",
    "cv = RepeatedStratifiedKFold(n_splits=10, n_repeats=3, random_state=1)\n",
    "scoring = ('f1', 'recall', 'precision','accuracy')\n",
    "#Evaluate SMOTE SRF model\n",
    "RFC_scores = cross_validate(RFC_model, over_X, over_y, scoring=scoring, cv=cv)\n",
    "\n",
    "#Get average evaluation metrics\n",
    "print('Mean f1: %.3f' % mean(RFC_scores['test_f1']))\n",
    "print('Mean recall: %.3f' % mean(RFC_scores['test_recall']))\n",
    "print('Mean precision: %.3f' % mean(RFC_scores['test_precision']))\n",
    "\n",
    "#accuracy score\n",
    "RFC_accuracy_scores = cross_val_score(RFC_model, over_X, over_y, cv= skf, scoring=\"accuracy\")\n",
    "print('\\n')\n",
    "print(f'Scores for each fold are: {RFC_accuracy_scores}')\n",
    "print(f'\\nAverage score: {\"{:.9f}\".format(RFC_accuracy_scores.mean())}')"
   ]
  },
  {
   "cell_type": "code",
   "execution_count": 16,
   "metadata": {
    "id": "xFKqfunVVemq"
   },
   "outputs": [
    {
     "data": {
      "text/plain": [
       "0    251\n",
       "1    120\n",
       "dtype: int64"
      ]
     },
     "execution_count": 16,
     "metadata": {},
     "output_type": "execute_result"
    }
   ],
   "source": [
    "#SMOTE SRF prediction result\n",
    "RFC_y_pred = RFC_model.predict(over_X_test)\n",
    "pdf = pd.DataFrame(RFC_y_pred)\n",
    "pdf.value_counts()"
   ]
  },
  {
   "cell_type": "markdown",
   "metadata": {
    "tags": []
   },
   "source": [
    "# LDA"
   ]
  },
  {
   "cell_type": "markdown",
   "metadata": {},
   "source": [
    "<div class=\"alert alert-warning\">\n",
    "  <strong>Linear Discriminant Analysis</strong>\n",
    "</div>"
   ]
  },
  {
   "cell_type": "code",
   "execution_count": 29,
   "metadata": {
    "id": "hxrlPlvGUuJ7"
   },
   "outputs": [
    {
     "data": {
      "text/plain": [
       "[0.6586021505376344,\n",
       " 0.6881720430107527,\n",
       " 0.6693548387096774,\n",
       " 0.7123655913978495,\n",
       " 0.6881720430107527,\n",
       " 0.6666666666666666,\n",
       " 0.7123655913978495,\n",
       " 0.6989247311827957,\n",
       " 0.6819407008086253,\n",
       " 0.6549865229110512]"
      ]
     },
     "execution_count": 29,
     "metadata": {},
     "output_type": "execute_result"
    }
   ],
   "source": [
    "#Build SMOTE SRF model\n",
    "from sklearn.discriminant_analysis import LinearDiscriminantAnalysis\n",
    "LDA_model = LinearDiscriminantAnalysis()\n",
    "\n",
    "\n",
    "lst_accu_stratified = []\n",
    "for train_index, test_index in skf.split(over_X, over_y):\n",
    "    #print(\"TRAIN:\", train_index, \"TEST:\", test_index)\n",
    "    over_X_train, over_X_test = over_X[train_index], over_X[test_index]\n",
    "    over_y_train, over_y_test = over_y[train_index], over_y[test_index]\n",
    "    LDA_model.fit(over_X_train, over_y_train)\n",
    "    lst_accu_stratified.append(LDA_model.score(over_X_test, over_y_test))\n",
    "    \n",
    "lst_accu_stratified"
   ]
  },
  {
   "cell_type": "code",
   "execution_count": 30,
   "metadata": {
    "colab": {
     "base_uri": "https://localhost:8080/"
    },
    "id": "ebn5jhG5VIbj",
    "outputId": "5dd4ca9e-31f4-4d2b-fd8a-0c1ca9628707"
   },
   "outputs": [
    {
     "name": "stdout",
     "output_type": "stream",
     "text": [
      "Mean f1: 0.454\n",
      "Mean recall: 0.373\n",
      "Mean precision: 0.582\n",
      "\n",
      "\n",
      "Scores for each fold are: [0.65860215 0.68817204 0.66935484 0.71236559 0.68817204 0.66666667\n",
      " 0.71236559 0.69892473 0.6819407  0.65498652]\n",
      "\n",
      "Average score: 0.683155088\n"
     ]
    }
   ],
   "source": [
    "#Create Stratified K-fold cross validation\n",
    "cv = RepeatedStratifiedKFold(n_splits=10, n_repeats=3, random_state=1)\n",
    "scoring = ('f1', 'recall', 'precision','accuracy')\n",
    "#Evaluate SMOTE SRF model\n",
    "LDA_scores = cross_validate(LDA_model, over_X, over_y, scoring=scoring, cv=cv)\n",
    "\n",
    "#Get average evaluation metrics\n",
    "print('Mean f1: %.3f' % mean(LDA_scores['test_f1']))\n",
    "print('Mean recall: %.3f' % mean(LDA_scores['test_recall']))\n",
    "print('Mean precision: %.3f' % mean(LDA_scores['test_precision']))\n",
    "\n",
    "#accuracy score\n",
    "LDA_accuracy_scores = cross_val_score(LDA_model, over_X, over_y, cv= skf, scoring=\"accuracy\")\n",
    "print('\\n')\n",
    "print(f'Scores for each fold are: {LDA_accuracy_scores}')\n",
    "print(f'\\nAverage score: {\"{:.9f}\".format(LDA_accuracy_scores.mean())}')"
   ]
  },
  {
   "cell_type": "code",
   "execution_count": 31,
   "metadata": {
    "id": "xFKqfunVVemq"
   },
   "outputs": [
    {
     "data": {
      "text/plain": [
       "0    287\n",
       "1     84\n",
       "dtype: int64"
      ]
     },
     "execution_count": 31,
     "metadata": {},
     "output_type": "execute_result"
    }
   ],
   "source": [
    "#SMOTE SRF prediction result\n",
    "LDA_y_pred = LDA_model.predict(over_X_test)\n",
    "pdf = pd.DataFrame(LDA_y_pred)\n",
    "pdf.value_counts()"
   ]
  },
  {
   "cell_type": "markdown",
   "metadata": {
    "tags": []
   },
   "source": [
    "# XGB"
   ]
  },
  {
   "cell_type": "markdown",
   "metadata": {},
   "source": [
    "<div class=\"alert alert-warning\">\n",
    "  <strong>XGboost</strong>\n",
    "</div>"
   ]
  },
  {
   "cell_type": "code",
   "execution_count": 35,
   "metadata": {
    "id": "hxrlPlvGUuJ7"
   },
   "outputs": [
    {
     "data": {
      "text/plain": [
       "[0.9086021505376344,\n",
       " 0.946236559139785,\n",
       " 0.9408602150537635,\n",
       " 0.9327956989247311,\n",
       " 0.9220430107526881,\n",
       " 0.9193548387096774,\n",
       " 0.946236559139785,\n",
       " 0.946236559139785,\n",
       " 0.9460916442048517,\n",
       " 0.9056603773584906]"
      ]
     },
     "execution_count": 35,
     "metadata": {},
     "output_type": "execute_result"
    }
   ],
   "source": [
    "#Build SMOTE SRF model\n",
    "from xgboost import XGBClassifier,plot_importance\n",
    "XGB_model = XGBClassifier()\n",
    "\n",
    "\n",
    "lst_accu_stratified = []\n",
    "for train_index, test_index in skf.split(over_X, over_y):\n",
    "    #print(\"TRAIN:\", train_index, \"TEST:\", test_index)\n",
    "    over_X_train, over_X_test = over_X[train_index], over_X[test_index]\n",
    "    over_y_train, over_y_test = over_y[train_index], over_y[test_index]\n",
    "    XGB_model.fit(over_X_train, over_y_train)\n",
    "    lst_accu_stratified.append(XGB_model.score(over_X_test, over_y_test))\n",
    "    \n",
    "lst_accu_stratified"
   ]
  },
  {
   "cell_type": "code",
   "execution_count": 36,
   "metadata": {
    "colab": {
     "base_uri": "https://localhost:8080/"
    },
    "id": "ebn5jhG5VIbj",
    "outputId": "5dd4ca9e-31f4-4d2b-fd8a-0c1ca9628707"
   },
   "outputs": [
    {
     "name": "stdout",
     "output_type": "stream",
     "text": [
      "Mean f1: 0.904\n",
      "Mean recall: 0.868\n",
      "Mean precision: 0.944\n",
      "\n",
      "\n",
      "Scores for each fold are: [0.90860215 0.94623656 0.94086022 0.9327957  0.92204301 0.91935484\n",
      " 0.94623656 0.94623656 0.94609164 0.90566038]\n",
      "\n",
      "Average score: 0.931411761\n"
     ]
    }
   ],
   "source": [
    "#Create Stratified K-fold cross validation\n",
    "cv = RepeatedStratifiedKFold(n_splits=10, n_repeats=3, random_state=1)\n",
    "scoring = ('f1', 'recall', 'precision','accuracy')\n",
    "#Evaluate SMOTE SRF model\n",
    "XGB_scores = cross_validate(XGB_model, over_X, over_y, scoring=scoring, cv=cv)\n",
    "\n",
    "#Get average evaluation metrics\n",
    "print('Mean f1: %.3f' % mean(XGB_scores['test_f1']))\n",
    "print('Mean recall: %.3f' % mean(XGB_scores['test_recall']))\n",
    "print('Mean precision: %.3f' % mean(XGB_scores['test_precision']))\n",
    "\n",
    "#accuracy score\n",
    "XGB_accuracy_scores = cross_val_score(XGB_model, over_X, over_y, cv= skf, scoring=\"accuracy\")\n",
    "print('\\n')\n",
    "print(f'Scores for each fold are: {XGB_accuracy_scores}')\n",
    "print(f'\\nAverage score: {\"{:.9f}\".format(XGB_accuracy_scores.mean())}')"
   ]
  },
  {
   "cell_type": "code",
   "execution_count": 37,
   "metadata": {
    "id": "xFKqfunVVemq"
   },
   "outputs": [
    {
     "data": {
      "text/plain": [
       "0    254\n",
       "1    117\n",
       "dtype: int64"
      ]
     },
     "execution_count": 37,
     "metadata": {},
     "output_type": "execute_result"
    }
   ],
   "source": [
    "#SMOTE SRF prediction result\n",
    "XGB_y_pred = XGB_model.predict(over_X_test)\n",
    "pdf = pd.DataFrame(XGB_y_pred)\n",
    "pdf.value_counts()"
   ]
  },
  {
   "cell_type": "code",
   "execution_count": null,
   "metadata": {},
   "outputs": [],
   "source": []
  },
  {
   "cell_type": "markdown",
   "metadata": {
    "tags": []
   },
   "source": [
    "# SVC"
   ]
  },
  {
   "cell_type": "markdown",
   "metadata": {},
   "source": [
    "<div class=\"alert alert-warning\">\n",
    "  <strong>Support Vector Classification</strong>\n",
    "</div>"
   ]
  },
  {
   "cell_type": "code",
   "execution_count": 64,
   "metadata": {
    "id": "hxrlPlvGUuJ7"
   },
   "outputs": [
    {
     "data": {
      "text/plain": [
       "[0.6532258064516129,\n",
       " 0.6854838709677419,\n",
       " 0.6559139784946236,\n",
       " 0.7150537634408602,\n",
       " 0.6720430107526881,\n",
       " 0.6693548387096774,\n",
       " 0.6989247311827957,\n",
       " 0.6908602150537635,\n",
       " 0.6738544474393531,\n",
       " 0.6576819407008087]"
      ]
     },
     "execution_count": 64,
     "metadata": {},
     "output_type": "execute_result"
    }
   ],
   "source": [
    "#Build SMOTE SRF model\n",
    "from sklearn.svm import SVC\n",
    "from sklearn import svm\n",
    "SVC_model = svm.SVC(kernel= 'linear',C=0.1)\n",
    "\n",
    "\n",
    "lst_accu_stratified = []\n",
    "for train_index, test_index in skf.split(over_X, over_y):\n",
    "    #print(\"TRAIN:\", train_index, \"TEST:\", test_index)\n",
    "    over_X_train, over_X_test = over_X[train_index], over_X[test_index]\n",
    "    over_y_train, over_y_test = over_y[train_index], over_y[test_index]\n",
    "    SVC_model.fit(over_X_train, over_y_train)\n",
    "    lst_accu_stratified.append(SVC_model.score(over_X_test, over_y_test))\n",
    "    \n",
    "lst_accu_stratified"
   ]
  },
  {
   "cell_type": "code",
   "execution_count": 65,
   "metadata": {
    "colab": {
     "base_uri": "https://localhost:8080/"
    },
    "id": "ebn5jhG5VIbj",
    "outputId": "5dd4ca9e-31f4-4d2b-fd8a-0c1ca9628707"
   },
   "outputs": [
    {
     "name": "stdout",
     "output_type": "stream",
     "text": [
      "Mean f1: 0.382\n",
      "Mean recall: 0.285\n",
      "Mean precision: 0.589\n",
      "\n",
      "\n",
      "Scores for each fold are: [0.65322581 0.68548387 0.65591398 0.71505376 0.67204301 0.66935484\n",
      " 0.69892473 0.69086022 0.67385445 0.65768194]\n",
      "\n",
      "Average score: 0.677239660\n"
     ]
    }
   ],
   "source": [
    "#Create Stratified K-fold cross validation\n",
    "cv = RepeatedStratifiedKFold(n_splits=10, n_repeats=3, random_state=1)\n",
    "scoring = ('f1', 'recall', 'precision','accuracy')\n",
    "#Evaluate SMOTE SRF model\n",
    "SVC_scores = cross_validate(SVC_model, over_X, over_y, scoring=scoring, cv=cv)\n",
    "\n",
    "#Get average evaluation metrics\n",
    "print('Mean f1: %.3f' % mean(SVC_scores['test_f1']))\n",
    "print('Mean recall: %.3f' % mean(SVC_scores['test_recall']))\n",
    "print('Mean precision: %.3f' % mean(SVC_scores['test_precision']))\n",
    "\n",
    "#accuracy score\n",
    "SVC_accuracy_scores = cross_val_score(SVC_model, over_X, over_y, cv= skf, scoring=\"accuracy\")\n",
    "print('\\n')\n",
    "print(f'Scores for each fold are: {SVC_accuracy_scores}')\n",
    "print(f'\\nAverage score: {\"{:.9f}\".format(SVC_accuracy_scores.mean())}')"
   ]
  },
  {
   "cell_type": "code",
   "execution_count": 66,
   "metadata": {
    "id": "xFKqfunVVemq"
   },
   "outputs": [
    {
     "data": {
      "text/plain": [
       "0    304\n",
       "1     67\n",
       "dtype: int64"
      ]
     },
     "execution_count": 66,
     "metadata": {},
     "output_type": "execute_result"
    }
   ],
   "source": [
    "#SMOTE SRF prediction result\n",
    "SVC_y_pred = SVC_model.predict(over_X_test)\n",
    "pdf = pd.DataFrame(SVC_y_pred)\n",
    "pdf.value_counts()"
   ]
  },
  {
   "cell_type": "markdown",
   "metadata": {
    "tags": []
   },
   "source": [
    "# GNB"
   ]
  },
  {
   "cell_type": "markdown",
   "metadata": {},
   "source": [
    "<div class=\"alert alert-warning\">\n",
    "  <strong>GaussianNB</strong>\n",
    "</div>"
   ]
  },
  {
   "cell_type": "code",
   "execution_count": 56,
   "metadata": {
    "id": "hxrlPlvGUuJ7"
   },
   "outputs": [
    {
     "data": {
      "text/plain": [
       "[0.6935483870967742,\n",
       " 0.7150537634408602,\n",
       " 0.6774193548387096,\n",
       " 0.7661290322580645,\n",
       " 0.7016129032258065,\n",
       " 0.6801075268817204,\n",
       " 0.7473118279569892,\n",
       " 0.6827956989247311,\n",
       " 0.7196765498652291,\n",
       " 0.6873315363881402]"
      ]
     },
     "execution_count": 56,
     "metadata": {},
     "output_type": "execute_result"
    }
   ],
   "source": [
    "#Build SMOTE SRF model\n",
    "from sklearn.naive_bayes import GaussianNB\n",
    "GNB_model = GaussianNB()\n",
    "\n",
    "\n",
    "lst_accu_stratified = []\n",
    "for train_index, test_index in skf.split(over_X, over_y):\n",
    "    #print(\"TRAIN:\", train_index, \"TEST:\", test_index)\n",
    "    over_X_train, over_X_test = over_X[train_index], over_X[test_index]\n",
    "    over_y_train, over_y_test = over_y[train_index], over_y[test_index]\n",
    "    GNB_model.fit(over_X_train, over_y_train)\n",
    "    lst_accu_stratified.append(GNB_model.score(over_X_test, over_y_test))\n",
    "    \n",
    "lst_accu_stratified"
   ]
  },
  {
   "cell_type": "code",
   "execution_count": 57,
   "metadata": {
    "colab": {
     "base_uri": "https://localhost:8080/"
    },
    "id": "ebn5jhG5VIbj",
    "outputId": "5dd4ca9e-31f4-4d2b-fd8a-0c1ca9628707"
   },
   "outputs": [
    {
     "name": "stdout",
     "output_type": "stream",
     "text": [
      "Mean f1: 0.538\n",
      "Mean recall: 0.487\n",
      "Mean precision: 0.603\n",
      "\n",
      "\n",
      "Scores for each fold are: [0.69354839 0.71505376 0.67741935 0.76612903 0.7016129  0.68010753\n",
      " 0.74731183 0.6827957  0.71967655 0.68733154]\n",
      "\n",
      "Average score: 0.707098658\n"
     ]
    }
   ],
   "source": [
    "#Create Stratified K-fold cross validation\n",
    "cv = RepeatedStratifiedKFold(n_splits=10, n_repeats=3, random_state=1)\n",
    "scoring = ('f1', 'recall', 'precision','accuracy')\n",
    "#Evaluate SMOTE SRF model\n",
    "GNB_scores = cross_validate(GNB_model, over_X, over_y, scoring=scoring, cv=cv)\n",
    "\n",
    "#Get average evaluation metrics\n",
    "print('Mean f1: %.3f' % mean(GNB_scores['test_f1']))\n",
    "print('Mean recall: %.3f' % mean(GNB_scores['test_recall']))\n",
    "print('Mean precision: %.3f' % mean(GNB_scores['test_precision']))\n",
    "\n",
    "#accuracy score\n",
    "GNB_accuracy_scores = cross_val_score(GNB_model, over_X, over_y, cv= skf, scoring=\"accuracy\")\n",
    "print('\\n')\n",
    "print(f'Scores for each fold are: {GNB_accuracy_scores}')\n",
    "print(f'\\nAverage score: {\"{:.9f}\".format(GNB_accuracy_scores.mean())}')"
   ]
  },
  {
   "cell_type": "code",
   "execution_count": 58,
   "metadata": {
    "id": "xFKqfunVVemq"
   },
   "outputs": [
    {
     "data": {
      "text/plain": [
       "0    265\n",
       "1    106\n",
       "dtype: int64"
      ]
     },
     "execution_count": 58,
     "metadata": {},
     "output_type": "execute_result"
    }
   ],
   "source": [
    "#SMOTE SRF prediction result\n",
    "GNB_y_pred = GNB_model.predict(over_X_test)\n",
    "pdf = pd.DataFrame(GNB_y_pred)\n",
    "pdf.value_counts()"
   ]
  },
  {
   "cell_type": "markdown",
   "metadata": {
    "tags": []
   },
   "source": [
    "# DTC"
   ]
  },
  {
   "cell_type": "markdown",
   "metadata": {},
   "source": [
    "<div class=\"alert alert-warning\">\n",
    "  <strong>DecisionTreeClassifier</strong>\n",
    "</div>"
   ]
  },
  {
   "cell_type": "code",
   "execution_count": 49,
   "metadata": {
    "id": "hxrlPlvGUuJ7"
   },
   "outputs": [
    {
     "data": {
      "text/plain": [
       "[0.7580645161290323,\n",
       " 0.7661290322580645,\n",
       " 0.8252688172043011,\n",
       " 0.7741935483870968,\n",
       " 0.7956989247311828,\n",
       " 0.7526881720430108,\n",
       " 0.8010752688172043,\n",
       " 0.8172043010752689,\n",
       " 0.7735849056603774,\n",
       " 0.8113207547169812]"
      ]
     },
     "execution_count": 49,
     "metadata": {},
     "output_type": "execute_result"
    }
   ],
   "source": [
    "#Build SMOTE SRF model\n",
    "from sklearn.tree import DecisionTreeClassifier\n",
    "DTC_model = DecisionTreeClassifier(criterion = \"gini\",random_state = 100,max_depth=3, min_samples_leaf=5)\n",
    "\n",
    "\n",
    "lst_accu_stratified = []\n",
    "for train_index, test_index in skf.split(over_X, over_y):\n",
    "    #print(\"TRAIN:\", train_index, \"TEST:\", test_index)\n",
    "    over_X_train, over_X_test = over_X[train_index], over_X[test_index]\n",
    "    over_y_train, over_y_test = over_y[train_index], over_y[test_index]\n",
    "    DTC_model.fit(over_X_train, over_y_train)\n",
    "    lst_accu_stratified.append(DTC_model.score(over_X_test, over_y_test))\n",
    "    \n",
    "lst_accu_stratified"
   ]
  },
  {
   "cell_type": "code",
   "execution_count": 50,
   "metadata": {
    "colab": {
     "base_uri": "https://localhost:8080/"
    },
    "id": "ebn5jhG5VIbj",
    "outputId": "5dd4ca9e-31f4-4d2b-fd8a-0c1ca9628707"
   },
   "outputs": [
    {
     "name": "stdout",
     "output_type": "stream",
     "text": [
      "Mean f1: 0.664\n",
      "Mean recall: 0.602\n",
      "Mean precision: 0.786\n",
      "\n",
      "\n",
      "Scores for each fold are: [0.75806452 0.76612903 0.82526882 0.77419355 0.79569892 0.75268817\n",
      " 0.80107527 0.8172043  0.77358491 0.81132075]\n",
      "\n",
      "Average score: 0.787522824\n"
     ]
    }
   ],
   "source": [
    "#Create Stratified K-fold cross validation\n",
    "cv = RepeatedStratifiedKFold(n_splits=10, n_repeats=3, random_state=1)\n",
    "scoring = ('f1', 'recall', 'precision','accuracy')\n",
    "#Evaluate SMOTE SRF model\n",
    "DTC_scores = cross_validate(DTC_model, over_X, over_y, scoring=scoring, cv=cv)\n",
    "\n",
    "#Get average evaluation metrics\n",
    "print('Mean f1: %.3f' % mean(DTC_scores['test_f1']))\n",
    "print('Mean recall: %.3f' % mean(DTC_scores['test_recall']))\n",
    "print('Mean precision: %.3f' % mean(DTC_scores['test_precision']))\n",
    "\n",
    "#accuracy score\n",
    "DTC_accuracy_scores = cross_val_score(DTC_model, over_X, over_y, cv= skf, scoring=\"accuracy\")\n",
    "print('\\n')\n",
    "print(f'Scores for each fold are: {DTC_accuracy_scores}')\n",
    "print(f'\\nAverage score: {\"{:.9f}\".format(DTC_accuracy_scores.mean())}')"
   ]
  },
  {
   "cell_type": "code",
   "execution_count": 54,
   "metadata": {
    "id": "xFKqfunVVemq"
   },
   "outputs": [
    {
     "data": {
      "text/plain": [
       "0    311\n",
       "1     60\n",
       "dtype: int64"
      ]
     },
     "execution_count": 54,
     "metadata": {},
     "output_type": "execute_result"
    }
   ],
   "source": [
    "#SMOTE SRF prediction result\n",
    "DTC_y_pred = DTC_model.predict(over_X_test)\n",
    "pdf = pd.DataFrame(DTC_y_pred)\n",
    "pdf.value_counts()"
   ]
  },
  {
   "cell_type": "markdown",
   "metadata": {
    "tags": []
   },
   "source": [
    "# model selection"
   ]
  },
  {
   "cell_type": "markdown",
   "metadata": {
    "tags": []
   },
   "source": [
    "### Random forest model"
   ]
  },
  {
   "cell_type": "code",
   "execution_count": 41,
   "metadata": {},
   "outputs": [
    {
     "name": "stdout",
     "output_type": "stream",
     "text": [
      "Mean f1: 0.910\n",
      "Mean recall: 0.875\n",
      "Mean precision: 0.948\n",
      "\n",
      "\n",
      "Scores for each fold are: [0.91666667 0.94354839 0.94892473 0.93817204 0.93010753 0.9327957\n",
      " 0.94086022 0.94892473 0.9541779  0.93261456]\n",
      "\n",
      "Average score: 0.938679245\n"
     ]
    }
   ],
   "source": [
    "#Create Stratified K-fold cross validation\n",
    "cv = RepeatedStratifiedKFold(n_splits=10, n_repeats=3, random_state=1)\n",
    "scoring = ('f1', 'recall', 'precision','accuracy')\n",
    "#Evaluate SMOTE SRF model\n",
    "RFC_scores = cross_validate(RFC_model, over_X, over_y, scoring=scoring, cv=cv)\n",
    "\n",
    "#Get average evaluation metrics\n",
    "print('Mean f1: %.3f' % mean(RFC_scores['test_f1']))\n",
    "print('Mean recall: %.3f' % mean(RFC_scores['test_recall']))\n",
    "print('Mean precision: %.3f' % mean(RFC_scores['test_precision']))\n",
    "\n",
    "#accuracy score\n",
    "RFC_accuracy_scores = cross_val_score(RFC_model, over_X, over_y, cv= skf, scoring=\"accuracy\")\n",
    "print('\\n')\n",
    "print(f'Scores for each fold are: {RFC_accuracy_scores}')\n",
    "print(f'\\nAverage score: {\"{:.9f}\".format(RFC_accuracy_scores.mean())}')\n"
   ]
  },
  {
   "cell_type": "code",
   "execution_count": 42,
   "metadata": {},
   "outputs": [
    {
     "name": "stdout",
     "output_type": "stream",
     "text": [
      "              precision    recall  f1-score   support\n",
      "\n",
      "           0       0.98      0.92      0.95       256\n",
      "           1       0.85      0.96      0.90       115\n",
      "\n",
      "    accuracy                           0.93       371\n",
      "   macro avg       0.91      0.94      0.92       371\n",
      "weighted avg       0.94      0.93      0.93       371\n",
      "\n"
     ]
    }
   ],
   "source": [
    "RFC_y_pred = RFC_y_pred.round(0)\n",
    "RFC_y_pred.astype(\"int64\")\n",
    "\n",
    "print(classification_report(RFC_y_pred, over_y_test))"
   ]
  },
  {
   "cell_type": "code",
   "execution_count": 17,
   "metadata": {},
   "outputs": [
    {
     "data": {
      "text/plain": [
       "0.9710341525694224"
      ]
     },
     "execution_count": 17,
     "metadata": {},
     "output_type": "execute_result"
    }
   ],
   "source": [
    "roc_auc_score(over_y_test,RFC_model.predict_proba(over_X_test)[:, 1])"
   ]
  },
  {
   "cell_type": "code",
   "execution_count": 43,
   "metadata": {},
   "outputs": [
    {
     "name": "stderr",
     "output_type": "stream",
     "text": [
      "C:\\Users\\Tinul Piumika\\AppData\\Roaming\\Python\\Python39\\site-packages\\sklearn\\utils\\deprecation.py:87: FutureWarning: Function plot_confusion_matrix is deprecated; Function `plot_confusion_matrix` is deprecated in 1.0 and will be removed in 1.2. Use one of the class methods: ConfusionMatrixDisplay.from_predictions or ConfusionMatrixDisplay.from_estimator.\n",
      "  warnings.warn(msg, category=FutureWarning)\n"
     ]
    },
    {
     "data": {
      "image/png": "[encoded data removed]",
      "text/plain": [
       "<Figure size 432x288 with 2 Axes>"
      ]
     },
     "metadata": {
      "needs_background": "light"
     },
     "output_type": "display_data"
    }
   ],
   "source": [
    "#Create confusion matrix\n",
    "fig = plot_confusion_matrix(RFC_model, over_X_test, over_y_test, display_labels=['No Risk', 'Risk'], cmap='Greens')\n",
    "plt.title('SMOTE + Standard Random Forest Confusion Matrix')\n",
    "plt.show()"
   ]
  },
  {
   "cell_type": "code",
   "execution_count": null,
   "metadata": {},
   "outputs": [],
   "source": []
  },
  {
   "cell_type": "markdown",
   "metadata": {
    "tags": []
   },
   "source": [
    "### Linear Discriminant Analysis"
   ]
  },
  {
   "cell_type": "code",
   "execution_count": 44,
   "metadata": {},
   "outputs": [
    {
     "name": "stdout",
     "output_type": "stream",
     "text": [
      "Mean f1: 0.454\n",
      "Mean recall: 0.373\n",
      "Mean precision: 0.582\n",
      "\n",
      "\n",
      "Scores for each fold are: [0.65860215 0.68817204 0.66935484 0.71236559 0.68817204 0.66666667\n",
      " 0.71236559 0.69892473 0.6819407  0.65498652]\n",
      "\n",
      "Average score: 0.683155088\n"
     ]
    }
   ],
   "source": [
    "#Create Stratified K-fold cross validation\n",
    "cv = RepeatedStratifiedKFold(n_splits=10, n_repeats=3, random_state=1)\n",
    "scoring = ('f1', 'recall', 'precision','accuracy')\n",
    "#Evaluate SMOTE SRF model\n",
    "LDA_scores = cross_validate(LDA_model, over_X, over_y, scoring=scoring, cv=cv)\n",
    "\n",
    "#Get average evaluation metrics\n",
    "print('Mean f1: %.3f' % mean(LDA_scores['test_f1']))\n",
    "print('Mean recall: %.3f' % mean(LDA_scores['test_recall']))\n",
    "print('Mean precision: %.3f' % mean(LDA_scores['test_precision']))\n",
    "\n",
    "#accuracy score\n",
    "LDA_accuracy_scores = cross_val_score(LDA_model, over_X, over_y, cv= skf, scoring=\"accuracy\")\n",
    "print('\\n')\n",
    "print(f'Scores for each fold are: {LDA_accuracy_scores}')\n",
    "print(f'\\nAverage score: {\"{:.9f}\".format(LDA_accuracy_scores.mean())}')\n"
   ]
  },
  {
   "cell_type": "code",
   "execution_count": 45,
   "metadata": {},
   "outputs": [
    {
     "name": "stdout",
     "output_type": "stream",
     "text": [
      "              precision    recall  f1-score   support\n",
      "\n",
      "           0       0.83      0.70      0.76       287\n",
      "           1       0.33      0.51      0.40        84\n",
      "\n",
      "    accuracy                           0.65       371\n",
      "   macro avg       0.58      0.60      0.58       371\n",
      "weighted avg       0.72      0.65      0.68       371\n",
      "\n"
     ]
    }
   ],
   "source": [
    "LDA_y_pred = LDA_y_pred.round(0)\n",
    "LDA_y_pred.astype(\"int64\")\n",
    "\n",
    "print(classification_report(LDA_y_pred, over_y_test))"
   ]
  },
  {
   "cell_type": "code",
   "execution_count": 46,
   "metadata": {},
   "outputs": [
    {
     "name": "stderr",
     "output_type": "stream",
     "text": [
      "C:\\Users\\Tinul Piumika\\AppData\\Roaming\\Python\\Python39\\site-packages\\sklearn\\utils\\deprecation.py:87: FutureWarning: Function plot_confusion_matrix is deprecated; Function `plot_confusion_matrix` is deprecated in 1.0 and will be removed in 1.2. Use one of the class methods: ConfusionMatrixDisplay.from_predictions or ConfusionMatrixDisplay.from_estimator.\n",
      "  warnings.warn(msg, category=FutureWarning)\n"
     ]
    },
    {
     "data": {
      "image/png": "[encoded data removed]",
      "text/plain": [
       "<Figure size 432x288 with 2 Axes>"
      ]
     },
     "metadata": {
      "needs_background": "light"
     },
     "output_type": "display_data"
    }
   ],
   "source": [
    "#Create confusion matrix\n",
    "fig = plot_confusion_matrix(LDA_model, over_X_test, over_y_test, display_labels=['No Risk', 'Risk'], cmap='Greens')\n",
    "plt.title('SMOTE + Standard Random Forest Confusion Matrix')\n",
    "plt.show()"
   ]
  },
  {
   "cell_type": "code",
   "execution_count": null,
   "metadata": {},
   "outputs": [],
   "source": []
  },
  {
   "cell_type": "markdown",
   "metadata": {
    "tags": []
   },
   "source": [
    "### XGboost"
   ]
  },
  {
   "cell_type": "code",
   "execution_count": 47,
   "metadata": {},
   "outputs": [
    {
     "name": "stdout",
     "output_type": "stream",
     "text": [
      "Mean f1: 0.904\n",
      "Mean recall: 0.868\n",
      "Mean precision: 0.944\n",
      "\n",
      "\n",
      "Scores for each fold are: [0.90860215 0.94623656 0.94086022 0.9327957  0.92204301 0.91935484\n",
      " 0.94623656 0.94623656 0.94609164 0.90566038]\n",
      "\n",
      "Average score: 0.931411761\n"
     ]
    }
   ],
   "source": [
    "#Create Stratified K-fold cross validation\n",
    "cv = RepeatedStratifiedKFold(n_splits=10, n_repeats=3, random_state=1)\n",
    "scoring = ('f1', 'recall', 'precision','accuracy')\n",
    "#Evaluate SMOTE SRF model\n",
    "XGB_scores = cross_validate(XGB_model, over_X, over_y, scoring=scoring, cv=cv)\n",
    "\n",
    "#Get average evaluation metrics\n",
    "print('Mean f1: %.3f' % mean(XGB_scores['test_f1']))\n",
    "print('Mean recall: %.3f' % mean(XGB_scores['test_recall']))\n",
    "print('Mean precision: %.3f' % mean(XGB_scores['test_precision']))\n",
    "\n",
    "#accuracy score\n",
    "XGB_accuracy_scores = cross_val_score(XGB_model, over_X, over_y, cv= skf, scoring=\"accuracy\")\n",
    "print('\\n')\n",
    "print(f'Scores for each fold are: {XGB_accuracy_scores}')\n",
    "print(f'\\nAverage score: {\"{:.9f}\".format(XGB_accuracy_scores.mean())}')\n"
   ]
  },
  {
   "cell_type": "code",
   "execution_count": 48,
   "metadata": {},
   "outputs": [
    {
     "name": "stdout",
     "output_type": "stream",
     "text": [
      "              precision    recall  f1-score   support\n",
      "\n",
      "           0       0.95      0.91      0.93       254\n",
      "           1       0.82      0.91      0.86       117\n",
      "\n",
      "    accuracy                           0.91       371\n",
      "   macro avg       0.88      0.91      0.89       371\n",
      "weighted avg       0.91      0.91      0.91       371\n",
      "\n"
     ]
    }
   ],
   "source": [
    "XGB_y_pred = XGB_y_pred.round(0)\n",
    "XGB_y_pred.astype(\"int64\")\n",
    "\n",
    "print(classification_report(XGB_y_pred, over_y_test))"
   ]
  },
  {
   "cell_type": "code",
   "execution_count": 57,
   "metadata": {},
   "outputs": [
    {
     "name": "stderr",
     "output_type": "stream",
     "text": [
      "C:\\Users\\Tinul Piumika\\AppData\\Roaming\\Python\\Python39\\site-packages\\sklearn\\utils\\deprecation.py:87: FutureWarning: Function plot_confusion_matrix is deprecated; Function `plot_confusion_matrix` is deprecated in 1.0 and will be removed in 1.2. Use one of the class methods: ConfusionMatrixDisplay.from_predictions or ConfusionMatrixDisplay.from_estimator.\n",
      "  warnings.warn(msg, category=FutureWarning)\n"
     ]
    },
    {
     "data": {
      "image/png": "[encoded data removed]",
      "text/plain": [
       "<Figure size 432x288 with 2 Axes>"
      ]
     },
     "metadata": {
      "needs_background": "light"
     },
     "output_type": "display_data"
    }
   ],
   "source": [
    "#Create confusion matrix\n",
    "fig = plot_confusion_matrix(XGB_model, over_X_test, over_y_test, display_labels=['No Risk', 'Risk'], cmap='Greens')\n",
    "plt.title('SMOTE + Standard Random Forest Confusion Matrix')\n",
    "plt.show()"
   ]
  },
  {
   "cell_type": "code",
   "execution_count": null,
   "metadata": {},
   "outputs": [],
   "source": []
  },
  {
   "cell_type": "markdown",
   "metadata": {
    "tags": []
   },
   "source": [
    "### SVC"
   ]
  },
  {
   "cell_type": "code",
   "execution_count": 70,
   "metadata": {},
   "outputs": [
    {
     "name": "stdout",
     "output_type": "stream",
     "text": [
      "Mean f1: 0.382\n",
      "Mean recall: 0.285\n",
      "Mean precision: 0.589\n",
      "\n",
      "\n",
      "Scores for each fold are: [0.65322581 0.68548387 0.65591398 0.71505376 0.67204301 0.66935484\n",
      " 0.69892473 0.69086022 0.67385445 0.65768194]\n",
      "\n",
      "Average score: 0.677239660\n"
     ]
    }
   ],
   "source": [
    "#Create Stratified K-fold cross validation\n",
    "cv = RepeatedStratifiedKFold(n_splits=10, n_repeats=3, random_state=1)\n",
    "scoring = ('f1', 'recall', 'precision','accuracy')\n",
    "#Evaluate SMOTE SRF model\n",
    "SVC_scores = cross_validate(SVC_model, over_X, over_y, scoring=scoring, cv=cv)\n",
    "\n",
    "#Get average evaluation metrics\n",
    "print('Mean f1: %.3f' % mean(SVC_scores['test_f1']))\n",
    "print('Mean recall: %.3f' % mean(SVC_scores['test_recall']))\n",
    "print('Mean precision: %.3f' % mean(SVC_scores['test_precision']))\n",
    "\n",
    "#accuracy score\n",
    "SVC_accuracy_scores = cross_val_score(SVC_model, over_X, over_y, cv= skf, scoring=\"accuracy\")\n",
    "print('\\n')\n",
    "print(f'Scores for each fold are: {SVC_accuracy_scores}')\n",
    "print(f'\\nAverage score: {\"{:.9f}\".format(SVC_accuracy_scores.mean())}')\n"
   ]
  },
  {
   "cell_type": "code",
   "execution_count": 68,
   "metadata": {},
   "outputs": [
    {
     "name": "stdout",
     "output_type": "stream",
     "text": [
      "              precision    recall  f1-score   support\n",
      "\n",
      "           0       0.87      0.69      0.77       304\n",
      "           1       0.27      0.52      0.36        67\n",
      "\n",
      "    accuracy                           0.66       371\n",
      "   macro avg       0.57      0.60      0.56       371\n",
      "weighted avg       0.76      0.66      0.69       371\n",
      "\n"
     ]
    }
   ],
   "source": [
    "SVC_y_pred = SVC_y_pred.round(0)\n",
    "SVC_y_pred.astype(\"int64\")\n",
    "\n",
    "print(classification_report(SVC_y_pred, over_y_test))"
   ]
  },
  {
   "cell_type": "code",
   "execution_count": 69,
   "metadata": {},
   "outputs": [
    {
     "name": "stderr",
     "output_type": "stream",
     "text": [
      "C:\\Users\\Tinul Piumika\\AppData\\Roaming\\Python\\Python39\\site-packages\\sklearn\\utils\\deprecation.py:87: FutureWarning: Function plot_confusion_matrix is deprecated; Function `plot_confusion_matrix` is deprecated in 1.0 and will be removed in 1.2. Use one of the class methods: ConfusionMatrixDisplay.from_predictions or ConfusionMatrixDisplay.from_estimator.\n",
      "  warnings.warn(msg, category=FutureWarning)\n"
     ]
    },
    {
     "data": {
      "image/png": "[encoded data removed]",
      "text/plain": [
       "<Figure size 432x288 with 2 Axes>"
      ]
     },
     "metadata": {
      "needs_background": "light"
     },
     "output_type": "display_data"
    }
   ],
   "source": [
    "#Create confusion matrix\n",
    "fig = plot_confusion_matrix(SVC_model, over_X_test, over_y_test, display_labels=['No Risk', 'Risk'], cmap='Greens')\n",
    "plt.title('SMOTE + Standard Random Forest Confusion Matrix')\n",
    "plt.show()"
   ]
  },
  {
   "cell_type": "markdown",
   "metadata": {
    "tags": []
   },
   "source": [
    "### GNB"
   ]
  },
  {
   "cell_type": "code",
   "execution_count": 59,
   "metadata": {},
   "outputs": [
    {
     "name": "stdout",
     "output_type": "stream",
     "text": [
      "Mean f1: 0.538\n",
      "Mean recall: 0.487\n",
      "Mean precision: 0.603\n",
      "\n",
      "\n",
      "Scores for each fold are: [0.69354839 0.71505376 0.67741935 0.76612903 0.7016129  0.68010753\n",
      " 0.74731183 0.6827957  0.71967655 0.68733154]\n",
      "\n",
      "Average score: 0.707098658\n"
     ]
    }
   ],
   "source": [
    "#Create Stratified K-fold cross validation\n",
    "cv = RepeatedStratifiedKFold(n_splits=10, n_repeats=3, random_state=1)\n",
    "scoring = ('f1', 'recall', 'precision','accuracy')\n",
    "#Evaluate SMOTE SRF model\n",
    "GNB_scores = cross_validate(GNB_model, over_X, over_y, scoring=scoring, cv=cv)\n",
    "\n",
    "#Get average evaluation metrics\n",
    "print('Mean f1: %.3f' % mean(GNB_scores['test_f1']))\n",
    "print('Mean recall: %.3f' % mean(GNB_scores['test_recall']))\n",
    "print('Mean precision: %.3f' % mean(GNB_scores['test_precision']))\n",
    "\n",
    "#accuracy score\n",
    "GNB_accuracy_scores = cross_val_score(GNB_model, over_X, over_y, cv= skf, scoring=\"accuracy\")\n",
    "print('\\n')\n",
    "print(f'Scores for each fold are: {GNB_accuracy_scores}')\n",
    "print(f'\\nAverage score: {\"{:.9f}\".format(GNB_accuracy_scores.mean())}')\n"
   ]
  },
  {
   "cell_type": "code",
   "execution_count": 60,
   "metadata": {},
   "outputs": [
    {
     "name": "stdout",
     "output_type": "stream",
     "text": [
      "              precision    recall  f1-score   support\n",
      "\n",
      "           0       0.81      0.74      0.77       265\n",
      "           1       0.46      0.57      0.51       106\n",
      "\n",
      "    accuracy                           0.69       371\n",
      "   macro avg       0.64      0.65      0.64       371\n",
      "weighted avg       0.71      0.69      0.70       371\n",
      "\n"
     ]
    }
   ],
   "source": [
    "GNB_y_pred = GNB_y_pred.round(0)\n",
    "GNB_y_pred.astype(\"int64\")\n",
    "\n",
    "print(classification_report(GNB_y_pred, over_y_test))"
   ]
  },
  {
   "cell_type": "code",
   "execution_count": 61,
   "metadata": {},
   "outputs": [
    {
     "name": "stderr",
     "output_type": "stream",
     "text": [
      "C:\\Users\\Tinul Piumika\\AppData\\Roaming\\Python\\Python39\\site-packages\\sklearn\\utils\\deprecation.py:87: FutureWarning: Function plot_confusion_matrix is deprecated; Function `plot_confusion_matrix` is deprecated in 1.0 and will be removed in 1.2. Use one of the class methods: ConfusionMatrixDisplay.from_predictions or ConfusionMatrixDisplay.from_estimator.\n",
      "  warnings.warn(msg, category=FutureWarning)\n"
     ]
    },
    {
     "data": {
      "image/png": "[encoded data removed]",
      "text/plain": [
       "<Figure size 432x288 with 2 Axes>"
      ]
     },
     "metadata": {
      "needs_background": "light"
     },
     "output_type": "display_data"
    }
   ],
   "source": [
    "#Create confusion matrix\n",
    "fig = plot_confusion_matrix(GNB_model, over_X_test, over_y_test, display_labels=['No Risk', 'Risk'], cmap='Greens')\n",
    "plt.title('SMOTE + Standard Random Forest Confusion Matrix')\n",
    "plt.show()"
   ]
  },
  {
   "cell_type": "markdown",
   "metadata": {
    "tags": []
   },
   "source": [
    "### DTC"
   ]
  },
  {
   "cell_type": "code",
   "execution_count": 52,
   "metadata": {},
   "outputs": [
    {
     "name": "stdout",
     "output_type": "stream",
     "text": [
      "Mean f1: 0.664\n",
      "Mean recall: 0.602\n",
      "Mean precision: 0.786\n",
      "\n",
      "\n",
      "Scores for each fold are: [0.75806452 0.76612903 0.82526882 0.77419355 0.79569892 0.75268817\n",
      " 0.80107527 0.8172043  0.77358491 0.81132075]\n",
      "\n",
      "Average score: 0.787522824\n"
     ]
    }
   ],
   "source": [
    "#Create Stratified K-fold cross validation\n",
    "cv = RepeatedStratifiedKFold(n_splits=10, n_repeats=3, random_state=1)\n",
    "scoring = ('f1', 'recall', 'precision','accuracy')\n",
    "#Evaluate SMOTE SRF model\n",
    "DTC_scores = cross_validate(DTC_model, over_X, over_y, scoring=scoring, cv=cv)\n",
    "\n",
    "#Get average evaluation metrics\n",
    "print('Mean f1: %.3f' % mean(DTC_scores['test_f1']))\n",
    "print('Mean recall: %.3f' % mean(DTC_scores['test_recall']))\n",
    "print('Mean precision: %.3f' % mean(DTC_scores['test_precision']))\n",
    "\n",
    "#accuracy score\n",
    "DTC_accuracy_scores = cross_val_score(DTC_model, over_X, over_y, cv= skf, scoring=\"accuracy\")\n",
    "print('\\n')\n",
    "print(f'Scores for each fold are: {DTC_accuracy_scores}')\n",
    "print(f'\\nAverage score: {\"{:.9f}\".format(DTC_accuracy_scores.mean())}')\n"
   ]
  },
  {
   "cell_type": "code",
   "execution_count": 71,
   "metadata": {},
   "outputs": [
    {
     "name": "stdout",
     "output_type": "stream",
     "text": [
      "              precision    recall  f1-score   support\n",
      "\n",
      "           0       1.00      0.77      0.87       311\n",
      "           1       0.46      1.00      0.63        60\n",
      "\n",
      "    accuracy                           0.81       371\n",
      "   macro avg       0.73      0.89      0.75       371\n",
      "weighted avg       0.91      0.81      0.83       371\n",
      "\n"
     ]
    }
   ],
   "source": [
    "DTC_y_pred = DTC_y_pred.round(0)\n",
    "DTC_y_pred.astype(\"int64\")\n",
    "\n",
    "print(classification_report(DTC_y_pred, over_y_test))"
   ]
  },
  {
   "cell_type": "code",
   "execution_count": 57,
   "metadata": {},
   "outputs": [
    {
     "name": "stderr",
     "output_type": "stream",
     "text": [
      "C:\\Users\\Tinul Piumika\\AppData\\Roaming\\Python\\Python39\\site-packages\\sklearn\\utils\\deprecation.py:87: FutureWarning: Function plot_confusion_matrix is deprecated; Function `plot_confusion_matrix` is deprecated in 1.0 and will be removed in 1.2. Use one of the class methods: ConfusionMatrixDisplay.from_predictions or ConfusionMatrixDisplay.from_estimator.\n",
      "  warnings.warn(msg, category=FutureWarning)\n"
     ]
    },
    {
     "data": {
      "image/png": "[encoded data removed]",
      "text/plain": [
       "<Figure size 432x288 with 2 Axes>"
      ]
     },
     "metadata": {
      "needs_background": "light"
     },
     "output_type": "display_data"
    }
   ],
   "source": [
    "#Create confusion matrix\n",
    "fig = plot_confusion_matrix(DTV_model, over_X_test, over_y_test, display_labels=['No Risk', 'Risk'], cmap='Greens')\n",
    "plt.title('SMOTE + Standard Random Forest Confusion Matrix')\n",
    "plt.show()"
   ]
  },
  {
   "cell_type": "markdown",
   "metadata": {},
   "source": [
    "# exp"
   ]
  },
  {
   "cell_type": "code",
   "execution_count": 16,
   "metadata": {},
   "outputs": [
    {
     "data": {
      "image/png": "[encoded data removed]",
      "text/plain": [
       "<Figure size 432x288 with 1 Axes>"
      ]
     },
     "metadata": {
      "needs_background": "light"
     },
     "output_type": "display_data"
    }
   ],
   "source": [
    "# example of a roc curve for a predictive model\n",
    "from sklearn.datasets import make_classification\n",
    "from sklearn.linear_model import LogisticRegression\n",
    "from sklearn.model_selection import train_test_split\n",
    "from sklearn.metrics import roc_curve\n",
    "from matplotlib import pyplot\n",
    "\n",
    "yhat = RFC_model.predict_proba(over_X_test)\n",
    "# retrieve just the probabilities for the positive class\n",
    "pos_probs = yhat[:, 1]\n",
    "# plot no skill roc curve\n",
    "pyplot.plot([0, 1], [0, 1], linestyle='--', label='No Skill')\n",
    "# calculate roc curve for model\n",
    "fpr, tpr, _ = roc_curve(over_y_test, pos_probs)\n",
    "# plot model roc curve\n",
    "pyplot.plot(fpr, tpr, marker='.', label='Random Forest Classifer')\n",
    "# axis labels\n",
    "pyplot.xlabel('False Positive Rate')\n",
    "pyplot.ylabel('True Positive Rate')\n",
    "# show the legend\n",
    "pyplot.legend()\n",
    "# show the plot\n",
    "pyplot.show()"
   ]
  },
  {
   "cell_type": "code",
   "execution_count": null,
   "metadata": {},
   "outputs": [],
   "source": []
  }
 ],
 "metadata": {
  "colab": {
   "collapsed_sections": [],
   "provenance": []
  },
  "kernelspec": {
   "display_name": "Python 3 (ipykernel)",
   "language": "python",
   "name": "python3"
  },
  "language_info": {
   "codemirror_mode": {
    "name": "ipython",
    "version": 3
   },
   "file_extension": ".py",
   "mimetype": "text/x-python",
   "name": "python",
   "nbconvert_exporter": "python",
   "pygments_lexer": "ipython3",
   "version": "3.9.12"
  }
 },
 "nbformat": 4,
 "nbformat_minor": 4
}
