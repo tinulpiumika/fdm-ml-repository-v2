{
 "cells": [
  {
   "cell_type": "code",
   "execution_count": 1,
   "id": "d7c58676-3628-4820-b30a-f15c3f0bfae1",
   "metadata": {},
   "outputs": [],
   "source": [
    "import pandas as pd"
   ]
  },
  {
   "cell_type": "code",
   "execution_count": 3,
   "id": "ad001031-ab34-46c3-9bab-de5c53a70aea",
   "metadata": {},
   "outputs": [],
   "source": [
    "df = pd.read_csv(\"six variable data set.csv\")"
   ]
  },
  {
   "cell_type": "code",
   "execution_count": 4,
   "id": "197bb04f-8ffe-4e2c-9a06-7c426ed23836",
   "metadata": {},
   "outputs": [
    {
     "data": {
      "text/plain": [
       "(2596, 7)"
      ]
     },
     "execution_count": 4,
     "metadata": {},
     "output_type": "execute_result"
    }
   ],
   "source": [
    "df.shape"
   ]
  },
  {
   "cell_type": "code",
   "execution_count": 7,
   "id": "a6d4d6d3-6ca0-4534-b1e5-9fd6cf40717f",
   "metadata": {},
   "outputs": [
    {
     "data": {
      "text/plain": [
       "1    1871\n",
       "4     319\n",
       "2     309\n",
       "3      97\n",
       "Name: smoking, dtype: int64"
      ]
     },
     "execution_count": 7,
     "metadata": {},
     "output_type": "execute_result"
    }
   ],
   "source": [
    "df['smoking'].value_counts()"
   ]
  },
  {
   "cell_type": "code",
   "execution_count": 8,
   "id": "e47acbe6-3cf0-4d62-b17a-450e1519b2e4",
   "metadata": {},
   "outputs": [
    {
     "data": {
      "text/plain": [
       "725"
      ]
     },
     "execution_count": 8,
     "metadata": {},
     "output_type": "execute_result"
    }
   ],
   "source": [
    "319+309+97"
   ]
  },
  {
   "cell_type": "code",
   "execution_count": 9,
   "id": "86c4762b-a37f-4570-bb9e-0be0aa9c61d0",
   "metadata": {},
   "outputs": [],
   "source": [
    "df = df.replace([2,3,4], 2)"
   ]
  },
  {
   "cell_type": "code",
   "execution_count": 10,
   "id": "6372c12b-a2b5-4d76-aeed-abf15788b3ea",
   "metadata": {},
   "outputs": [
    {
     "data": {
      "text/plain": [
       "1    1871\n",
       "2     725\n",
       "Name: smoking, dtype: int64"
      ]
     },
     "execution_count": 10,
     "metadata": {},
     "output_type": "execute_result"
    }
   ],
   "source": [
    "df['smoking'].value_counts()"
   ]
  },
  {
   "cell_type": "code",
   "execution_count": 11,
   "id": "ae66d6db-137f-4412-9434-8a79dbbd1b81",
   "metadata": {},
   "outputs": [
    {
     "data": {
      "text/html": [
       "<div>\n",
       "<style scoped>\n",
       "    .dataframe tbody tr th:only-of-type {\n",
       "        vertical-align: middle;\n",
       "    }\n",
       "\n",
       "    .dataframe tbody tr th {\n",
       "        vertical-align: top;\n",
       "    }\n",
       "\n",
       "    .dataframe thead th {\n",
       "        text-align: right;\n",
       "    }\n",
       "</style>\n",
       "<table border=\"1\" class=\"dataframe\">\n",
       "  <thead>\n",
       "    <tr style=\"text-align: right;\">\n",
       "      <th></th>\n",
       "      <th>age</th>\n",
       "      <th>sex</th>\n",
       "      <th>average_simbolic_blood_pressure</th>\n",
       "      <th>cholesterol</th>\n",
       "      <th>diabetes</th>\n",
       "      <th>smoking</th>\n",
       "      <th>class</th>\n",
       "    </tr>\n",
       "  </thead>\n",
       "  <tbody>\n",
       "    <tr>\n",
       "      <th>0</th>\n",
       "      <td>52</td>\n",
       "      <td>0</td>\n",
       "      <td>120.5</td>\n",
       "      <td>262</td>\n",
       "      <td>2</td>\n",
       "      <td>1</td>\n",
       "      <td>1</td>\n",
       "    </tr>\n",
       "    <tr>\n",
       "      <th>1</th>\n",
       "      <td>52</td>\n",
       "      <td>0</td>\n",
       "      <td>129.0</td>\n",
       "      <td>227</td>\n",
       "      <td>1</td>\n",
       "      <td>1</td>\n",
       "      <td>1</td>\n",
       "    </tr>\n",
       "    <tr>\n",
       "      <th>2</th>\n",
       "      <td>58</td>\n",
       "      <td>0</td>\n",
       "      <td>118.0</td>\n",
       "      <td>211</td>\n",
       "      <td>2</td>\n",
       "      <td>1</td>\n",
       "      <td>1</td>\n",
       "    </tr>\n",
       "    <tr>\n",
       "      <th>3</th>\n",
       "      <td>51</td>\n",
       "      <td>0</td>\n",
       "      <td>130.5</td>\n",
       "      <td>200</td>\n",
       "      <td>1</td>\n",
       "      <td>1</td>\n",
       "      <td>1</td>\n",
       "    </tr>\n",
       "    <tr>\n",
       "      <th>4</th>\n",
       "      <td>44</td>\n",
       "      <td>0</td>\n",
       "      <td>130.0</td>\n",
       "      <td>217</td>\n",
       "      <td>2</td>\n",
       "      <td>1</td>\n",
       "      <td>1</td>\n",
       "    </tr>\n",
       "    <tr>\n",
       "      <th>...</th>\n",
       "      <td>...</td>\n",
       "      <td>...</td>\n",
       "      <td>...</td>\n",
       "      <td>...</td>\n",
       "      <td>...</td>\n",
       "      <td>...</td>\n",
       "      <td>...</td>\n",
       "    </tr>\n",
       "    <tr>\n",
       "      <th>2591</th>\n",
       "      <td>48</td>\n",
       "      <td>1</td>\n",
       "      <td>167.5</td>\n",
       "      <td>214</td>\n",
       "      <td>2</td>\n",
       "      <td>2</td>\n",
       "      <td>0</td>\n",
       "    </tr>\n",
       "    <tr>\n",
       "      <th>2592</th>\n",
       "      <td>45</td>\n",
       "      <td>1</td>\n",
       "      <td>112.5</td>\n",
       "      <td>194</td>\n",
       "      <td>2</td>\n",
       "      <td>2</td>\n",
       "      <td>0</td>\n",
       "    </tr>\n",
       "    <tr>\n",
       "      <th>2593</th>\n",
       "      <td>52</td>\n",
       "      <td>1</td>\n",
       "      <td>137.0</td>\n",
       "      <td>218</td>\n",
       "      <td>2</td>\n",
       "      <td>2</td>\n",
       "      <td>0</td>\n",
       "    </tr>\n",
       "    <tr>\n",
       "      <th>2594</th>\n",
       "      <td>58</td>\n",
       "      <td>1</td>\n",
       "      <td>131.5</td>\n",
       "      <td>190</td>\n",
       "      <td>2</td>\n",
       "      <td>2</td>\n",
       "      <td>0</td>\n",
       "    </tr>\n",
       "    <tr>\n",
       "      <th>2595</th>\n",
       "      <td>57</td>\n",
       "      <td>1</td>\n",
       "      <td>129.5</td>\n",
       "      <td>222</td>\n",
       "      <td>2</td>\n",
       "      <td>2</td>\n",
       "      <td>0</td>\n",
       "    </tr>\n",
       "  </tbody>\n",
       "</table>\n",
       "<p>2596 rows × 7 columns</p>\n",
       "</div>"
      ],
      "text/plain": [
       "      age  sex  average_simbolic_blood_pressure  cholesterol  diabetes  \\\n",
       "0      52    0                            120.5          262         2   \n",
       "1      52    0                            129.0          227         1   \n",
       "2      58    0                            118.0          211         2   \n",
       "3      51    0                            130.5          200         1   \n",
       "4      44    0                            130.0          217         2   \n",
       "...   ...  ...                              ...          ...       ...   \n",
       "2591   48    1                            167.5          214         2   \n",
       "2592   45    1                            112.5          194         2   \n",
       "2593   52    1                            137.0          218         2   \n",
       "2594   58    1                            131.5          190         2   \n",
       "2595   57    1                            129.5          222         2   \n",
       "\n",
       "      smoking  class  \n",
       "0           1      1  \n",
       "1           1      1  \n",
       "2           1      1  \n",
       "3           1      1  \n",
       "4           1      1  \n",
       "...       ...    ...  \n",
       "2591        2      0  \n",
       "2592        2      0  \n",
       "2593        2      0  \n",
       "2594        2      0  \n",
       "2595        2      0  \n",
       "\n",
       "[2596 rows x 7 columns]"
      ]
     },
     "execution_count": 11,
     "metadata": {},
     "output_type": "execute_result"
    }
   ],
   "source": [
    "df"
   ]
  },
  {
   "cell_type": "code",
   "execution_count": 14,
   "id": "68794ffe-6b79-421d-aed9-a37ee0614b1f",
   "metadata": {},
   "outputs": [],
   "source": [
    "df.to_csv(\"updated_dataset.csv\", index=None)"
   ]
  },
  {
   "cell_type": "code",
   "execution_count": null,
   "id": "d3fbae42-0cf0-4017-836b-adf611987d27",
   "metadata": {},
   "outputs": [],
   "source": []
  }
 ],
 "metadata": {
  "kernelspec": {
   "display_name": "Python 3 (ipykernel)",
   "language": "python",
   "name": "python3"
  },
  "language_info": {
   "codemirror_mode": {
    "name": "ipython",
    "version": 3
   },
   "file_extension": ".py",
   "mimetype": "text/x-python",
   "name": "python",
   "nbconvert_exporter": "python",
   "pygments_lexer": "ipython3",
   "version": "3.9.12"
  }
 },
 "nbformat": 4,
 "nbformat_minor": 5
}
